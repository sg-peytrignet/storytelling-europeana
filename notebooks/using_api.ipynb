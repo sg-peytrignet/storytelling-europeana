{
 "cells": [
  {
   "cell_type": "code",
   "execution_count": 2,
   "metadata": {},
   "outputs": [],
   "source": [
    "import os\n",
    "import dotenv\n",
    "import pandas as pd\n",
    "import geopandas as gpd\n",
    "import pyeuropeana.apis as apis\n",
    "import pyeuropeana.utils as utils"
   ]
  },
  {
   "cell_type": "code",
   "execution_count": 3,
   "metadata": {},
   "outputs": [],
   "source": [
    "import sys\n",
    "import os\n",
    "sys.path.append(os.path.abspath(os.path.join(os.getcwd(), os.pardir)))\n",
    "from utils import get_provider_data, aggregate_location_counts"
   ]
  },
  {
   "cell_type": "code",
   "execution_count": 4,
   "metadata": {},
   "outputs": [
    {
     "data": {
      "text/plain": [
       "True"
      ]
     },
     "execution_count": 4,
     "metadata": {},
     "output_type": "execute_result"
    }
   ],
   "source": [
    "dotenv.load_dotenv()"
   ]
  },
  {
   "cell_type": "code",
   "execution_count": 5,
   "metadata": {},
   "outputs": [
    {
     "name": "stdout",
     "output_type": "stream",
     "text": [
      "snetrourst\n"
     ]
    }
   ],
   "source": [
    "print(os.getenv('EUROPEANA_API_KEY'))"
   ]
  },
  {
   "cell_type": "code",
   "execution_count": 15,
   "metadata": {},
   "outputs": [],
   "source": [
    "# counts = pd.read_csv('/home/azureuser/cloudfiles/code/Users/sebastien.peytrignet/storytelling-europeana/data/country_counts.csv')\n",
    "# import ast\n",
    "# names = [list(ast.literal_eval(elem)[0].values())[0] for elem in counts.iloc[:,0]]\n",
    "# country_counts = pd.DataFrame({'name': names, 'count': counts.iloc[:,1]})\n",
    "# country_counts = country_counts.groupby('name').sum().reset_index()\n",
    "# country_counts.to_csv('/home/azureuser/cloudfiles/code/Users/sebastien.peytrignet/storytelling-europeana/data/country_counts_dedup.csv', index=False)"
   ]
  },
  {
   "cell_type": "code",
   "execution_count": null,
   "metadata": {},
   "outputs": [],
   "source": [
    "# Load world map dataset\n",
    "world = gpd.read_file(\"lowres_world.geojson\")"
   ]
  },
  {
   "cell_type": "code",
   "execution_count": null,
   "metadata": {},
   "outputs": [],
   "source": [
    "df = get_provider_data(\"Museum of World Culture\", world)"
   ]
  },
  {
   "cell_type": "code",
   "execution_count": null,
   "metadata": {},
   "outputs": [],
   "source": [
    "location_counts = aggregate_location_counts(df)\n",
    "print(location_counts)"
   ]
  }
 ],
 "metadata": {
  "kernelspec": {
   "display_name": "glamhack24",
   "language": "python",
   "name": "python3"
  },
  "language_info": {
   "codemirror_mode": {
    "name": "ipython",
    "version": 3
   },
   "file_extension": ".py",
   "mimetype": "text/x-python",
   "name": "python",
   "nbconvert_exporter": "python",
   "pygments_lexer": "ipython3",
   "version": "3.9.19"
  }
 },
 "nbformat": 4,
 "nbformat_minor": 2
}
