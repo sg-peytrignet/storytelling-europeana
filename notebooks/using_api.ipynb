{
 "cells": [
  {
   "cell_type": "code",
   "execution_count": 7,
   "metadata": {},
   "outputs": [],
   "source": [
    "import os\n",
    "import dotenv\n",
    "import pandas as pd\n",
    "import geopandas as gpd\n",
    "import pyeuropeana.apis as apis\n",
    "import pyeuropeana.utils as utils"
   ]
  },
  {
   "cell_type": "code",
   "execution_count": 2,
   "metadata": {},
   "outputs": [
    {
     "data": {
      "text/plain": [
       "True"
      ]
     },
     "execution_count": 2,
     "metadata": {},
     "output_type": "execute_result"
    }
   ],
   "source": [
    "dotenv.load_dotenv()"
   ]
  },
  {
   "cell_type": "code",
   "execution_count": 3,
   "metadata": {},
   "outputs": [
    {
     "name": "stdout",
     "output_type": "stream",
     "text": [
      "snetrourst\n"
     ]
    }
   ],
   "source": [
    "print(os.getenv('EUROPEANA_API_KEY'))"
   ]
  },
  {
   "cell_type": "code",
   "execution_count": 4,
   "metadata": {},
   "outputs": [],
   "source": [
    "def get_provider_data(provider_name, world_gdf, rows=1000):\n",
    "    \"\"\"\n",
    "    Query Europeana API for a specific data provider and return a processed DataFrame.\n",
    "    \n",
    "    Args:\n",
    "    provider_name (str): Name of the data provider to query\n",
    "    world_gdf (GeoDataFrame): World map GeoDataFrame for spatial join\n",
    "    rows (int): Number of rows to retrieve (default 1000)\n",
    "    \n",
    "    Returns:\n",
    "    pandas.DataFrame: Processed DataFrame with the queried data, including object location\n",
    "    \"\"\"\n",
    "    # Query the Europeana API\n",
    "    myquery = apis.search(\n",
    "        query='pl_wgs84_pos_lat:(*)',\n",
    "        qf=f'DATA_PROVIDER:\"{provider_name}\"',\n",
    "        rows=rows\n",
    "    )\n",
    "    \n",
    "    # Create initial DataFrame\n",
    "    myquery_df = pd.DataFrame(myquery[\"items\"], columns=['edmPlaceLatitude', 'edmPlaceLongitude', 'id', 'country', 'dataProvider', 'dcCreator'])\n",
    "    \n",
    "    # Function to extract single value from list or return original value\n",
    "    def extract_single(x):\n",
    "        return x[0] if isinstance(x, list) and len(x) > 0 else x\n",
    "    \n",
    "    # Apply extraction to relevant columns\n",
    "    for col in ['edmPlaceLatitude', 'edmPlaceLongitude', 'country', 'dataProvider', 'dcCreator']:\n",
    "        myquery_df[col] = myquery_df[col].apply(extract_single)\n",
    "    \n",
    "    # Convert latitude and longitude to float type\n",
    "    myquery_df['edmPlaceLatitude'] = pd.to_numeric(myquery_df['edmPlaceLatitude'], errors='coerce')\n",
    "    myquery_df['edmPlaceLongitude'] = pd.to_numeric(myquery_df['edmPlaceLongitude'], errors='coerce')\n",
    "    \n",
    "    # Create a GeoDataFrame from the DataFrame\n",
    "    gdf = gpd.GeoDataFrame(\n",
    "        myquery_df, \n",
    "        geometry=gpd.points_from_xy(myquery_df.edmPlaceLongitude, myquery_df.edmPlaceLatitude), \n",
    "        crs=\"EPSG:4326\"\n",
    "    )\n",
    "\n",
    "    # Perform spatial join\n",
    "    gdf_with_country = gpd.sjoin(gdf, world_gdf[['geometry', 'name']], how='left', op='within')\n",
    "\n",
    "    # Add the new column to the original DataFrame\n",
    "    myquery_df['object_location'] = gdf_with_country['name']\n",
    "\n",
    "    # Fill NaN values (points that don't fall within any country) with \"Unknown\"\n",
    "    myquery_df['object_location'] = myquery_df['object_location'].fillna(\"Unknown\")\n",
    "    \n",
    "    return myquery_df"
   ]
  },
  {
   "cell_type": "code",
   "execution_count": 8,
   "metadata": {},
   "outputs": [
    {
     "name": "stderr",
     "output_type": "stream",
     "text": [
      "/tmp/ipykernel_135846/1808957771.py:2: FutureWarning: The geopandas.dataset module is deprecated and will be removed in GeoPandas 1.0. You can get the original 'naturalearth_lowres' data from https://www.naturalearthdata.com/downloads/110m-cultural-vectors/.\n",
      "  world = gpd.read_file(gpd.datasets.get_path('naturalearth_lowres'))\n"
     ]
    }
   ],
   "source": [
    "# Load world map dataset\n",
    "world = gpd.read_file(gpd.datasets.get_path('naturalearth_lowres'))"
   ]
  },
  {
   "cell_type": "code",
   "execution_count": 5,
   "metadata": {},
   "outputs": [
    {
     "name": "stdout",
     "output_type": "stream",
     "text": [
      "   edmPlaceLatitude  edmPlaceLongitude                              id  \\\n",
      "0              51.0               10.0  /91670/SMVK_VKM_arkiv_15360114   \n",
      "1              47.0                2.0  /91670/SMVK_VKM_arkiv_15360097   \n",
      "2              47.0                2.0  /91670/SMVK_VKM_arkiv_15360049   \n",
      "3              47.0                2.0  /91670/SMVK_VKM_arkiv_15359964   \n",
      "4             -14.0              -53.0  /91670/SMVK_VKM_arkiv_15355968   \n",
      "\n",
      "  country             dataProvider             dcCreator  \n",
      "0  Sweden  Museum of World Culture        Morner, Birger  \n",
      "1  Sweden  Museum of World Culture        Morner, Birger  \n",
      "2  Sweden  Museum of World Culture        Morner, Birger  \n",
      "3  Sweden  Museum of World Culture        Morner, Birger  \n",
      "4  Sweden  Museum of World Culture  Ihering, Hermann von  \n"
     ]
    }
   ],
   "source": [
    "df = get_provider_data(\"Museum of World Culture\")\n",
    "print(df.head())"
   ]
  },
  {
   "cell_type": "code",
   "execution_count": 6,
   "metadata": {},
   "outputs": [
    {
     "data": {
      "text/html": [
       "<div>\n",
       "<style scoped>\n",
       "    .dataframe tbody tr th:only-of-type {\n",
       "        vertical-align: middle;\n",
       "    }\n",
       "\n",
       "    .dataframe tbody tr th {\n",
       "        vertical-align: top;\n",
       "    }\n",
       "\n",
       "    .dataframe thead th {\n",
       "        text-align: right;\n",
       "    }\n",
       "</style>\n",
       "<table border=\"1\" class=\"dataframe\">\n",
       "  <thead>\n",
       "    <tr style=\"text-align: right;\">\n",
       "      <th></th>\n",
       "      <th>edmPlaceLatitude</th>\n",
       "      <th>edmPlaceLongitude</th>\n",
       "      <th>id</th>\n",
       "      <th>country</th>\n",
       "      <th>dataProvider</th>\n",
       "      <th>dcCreator</th>\n",
       "    </tr>\n",
       "  </thead>\n",
       "  <tbody>\n",
       "    <tr>\n",
       "      <th>0</th>\n",
       "      <td>51.00000</td>\n",
       "      <td>10.00000</td>\n",
       "      <td>/91670/SMVK_VKM_arkiv_15360114</td>\n",
       "      <td>Sweden</td>\n",
       "      <td>Museum of World Culture</td>\n",
       "      <td>Morner, Birger</td>\n",
       "    </tr>\n",
       "    <tr>\n",
       "      <th>1</th>\n",
       "      <td>47.00000</td>\n",
       "      <td>2.00000</td>\n",
       "      <td>/91670/SMVK_VKM_arkiv_15360097</td>\n",
       "      <td>Sweden</td>\n",
       "      <td>Museum of World Culture</td>\n",
       "      <td>Morner, Birger</td>\n",
       "    </tr>\n",
       "    <tr>\n",
       "      <th>2</th>\n",
       "      <td>47.00000</td>\n",
       "      <td>2.00000</td>\n",
       "      <td>/91670/SMVK_VKM_arkiv_15360049</td>\n",
       "      <td>Sweden</td>\n",
       "      <td>Museum of World Culture</td>\n",
       "      <td>Morner, Birger</td>\n",
       "    </tr>\n",
       "    <tr>\n",
       "      <th>3</th>\n",
       "      <td>47.00000</td>\n",
       "      <td>2.00000</td>\n",
       "      <td>/91670/SMVK_VKM_arkiv_15359964</td>\n",
       "      <td>Sweden</td>\n",
       "      <td>Museum of World Culture</td>\n",
       "      <td>Morner, Birger</td>\n",
       "    </tr>\n",
       "    <tr>\n",
       "      <th>4</th>\n",
       "      <td>-14.00000</td>\n",
       "      <td>-53.00000</td>\n",
       "      <td>/91670/SMVK_VKM_arkiv_15355968</td>\n",
       "      <td>Sweden</td>\n",
       "      <td>Museum of World Culture</td>\n",
       "      <td>Ihering, Hermann von</td>\n",
       "    </tr>\n",
       "    <tr>\n",
       "      <th>...</th>\n",
       "      <td>...</td>\n",
       "      <td>...</td>\n",
       "      <td>...</td>\n",
       "      <td>...</td>\n",
       "      <td>...</td>\n",
       "      <td>...</td>\n",
       "    </tr>\n",
       "    <tr>\n",
       "      <th>995</th>\n",
       "      <td>-17.05687</td>\n",
       "      <td>-64.99123</td>\n",
       "      <td>/91609/SMVK_VKM_fotografi_2606292</td>\n",
       "      <td>Sweden</td>\n",
       "      <td>Museum of World Culture</td>\n",
       "      <td>Rosen, Eric von</td>\n",
       "    </tr>\n",
       "    <tr>\n",
       "      <th>996</th>\n",
       "      <td>-17.05687</td>\n",
       "      <td>-64.99123</td>\n",
       "      <td>/91609/SMVK_VKM_fotografi_2606291</td>\n",
       "      <td>Sweden</td>\n",
       "      <td>Museum of World Culture</td>\n",
       "      <td>Rosen, Eric von</td>\n",
       "    </tr>\n",
       "    <tr>\n",
       "      <th>997</th>\n",
       "      <td>-17.05687</td>\n",
       "      <td>-64.99123</td>\n",
       "      <td>/91609/SMVK_VKM_fotografi_2606290</td>\n",
       "      <td>Sweden</td>\n",
       "      <td>Museum of World Culture</td>\n",
       "      <td>Rosen, Eric von</td>\n",
       "    </tr>\n",
       "    <tr>\n",
       "      <th>998</th>\n",
       "      <td>-17.05687</td>\n",
       "      <td>-64.99123</td>\n",
       "      <td>/91609/SMVK_VKM_fotografi_2606289</td>\n",
       "      <td>Sweden</td>\n",
       "      <td>Museum of World Culture</td>\n",
       "      <td>Rosen, Eric von</td>\n",
       "    </tr>\n",
       "    <tr>\n",
       "      <th>999</th>\n",
       "      <td>-17.05687</td>\n",
       "      <td>-64.99123</td>\n",
       "      <td>/91609/SMVK_VKM_fotografi_2606288</td>\n",
       "      <td>Sweden</td>\n",
       "      <td>Museum of World Culture</td>\n",
       "      <td>Rosen, Eric von</td>\n",
       "    </tr>\n",
       "  </tbody>\n",
       "</table>\n",
       "<p>1000 rows × 6 columns</p>\n",
       "</div>"
      ],
      "text/plain": [
       "     edmPlaceLatitude  edmPlaceLongitude                                 id  \\\n",
       "0            51.00000           10.00000     /91670/SMVK_VKM_arkiv_15360114   \n",
       "1            47.00000            2.00000     /91670/SMVK_VKM_arkiv_15360097   \n",
       "2            47.00000            2.00000     /91670/SMVK_VKM_arkiv_15360049   \n",
       "3            47.00000            2.00000     /91670/SMVK_VKM_arkiv_15359964   \n",
       "4           -14.00000          -53.00000     /91670/SMVK_VKM_arkiv_15355968   \n",
       "..                ...                ...                                ...   \n",
       "995         -17.05687          -64.99123  /91609/SMVK_VKM_fotografi_2606292   \n",
       "996         -17.05687          -64.99123  /91609/SMVK_VKM_fotografi_2606291   \n",
       "997         -17.05687          -64.99123  /91609/SMVK_VKM_fotografi_2606290   \n",
       "998         -17.05687          -64.99123  /91609/SMVK_VKM_fotografi_2606289   \n",
       "999         -17.05687          -64.99123  /91609/SMVK_VKM_fotografi_2606288   \n",
       "\n",
       "    country             dataProvider             dcCreator  \n",
       "0    Sweden  Museum of World Culture        Morner, Birger  \n",
       "1    Sweden  Museum of World Culture        Morner, Birger  \n",
       "2    Sweden  Museum of World Culture        Morner, Birger  \n",
       "3    Sweden  Museum of World Culture        Morner, Birger  \n",
       "4    Sweden  Museum of World Culture  Ihering, Hermann von  \n",
       "..      ...                      ...                   ...  \n",
       "995  Sweden  Museum of World Culture       Rosen, Eric von  \n",
       "996  Sweden  Museum of World Culture       Rosen, Eric von  \n",
       "997  Sweden  Museum of World Culture       Rosen, Eric von  \n",
       "998  Sweden  Museum of World Culture       Rosen, Eric von  \n",
       "999  Sweden  Museum of World Culture       Rosen, Eric von  \n",
       "\n",
       "[1000 rows x 6 columns]"
      ]
     },
     "execution_count": 6,
     "metadata": {},
     "output_type": "execute_result"
    }
   ],
   "source": [
    "df"
   ]
  },
  {
   "cell_type": "code",
   "execution_count": null,
   "metadata": {},
   "outputs": [],
   "source": []
  }
 ],
 "metadata": {
  "kernelspec": {
   "display_name": "glamhack24",
   "language": "python",
   "name": "python3"
  },
  "language_info": {
   "codemirror_mode": {
    "name": "ipython",
    "version": 3
   },
   "file_extension": ".py",
   "mimetype": "text/x-python",
   "name": "python",
   "nbconvert_exporter": "python",
   "pygments_lexer": "ipython3",
   "version": "3.9.19"
  }
 },
 "nbformat": 4,
 "nbformat_minor": 2
}
