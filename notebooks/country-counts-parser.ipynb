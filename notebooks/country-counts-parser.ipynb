{
 "cells": [
  {
   "cell_type": "code",
   "execution_count": 7,
   "metadata": {},
   "outputs": [
    {
     "name": "stdout",
     "output_type": "stream",
     "text": [
      "C:\\Users\\simon\\OneDrive\\Dokumente\\Programming\\glamhack2024-europeana\n"
     ]
    }
   ],
   "source": [
    "import pandas as pd\n",
    "import os\n",
    "#os.chdir(\"./glamhack2024-europeana\")\n",
    "print(os.getcwd())\n",
    "df = pd.read_csv('data/country_counts.csv')"
   ]
  },
  {
   "cell_type": "code",
   "execution_count": 11,
   "metadata": {},
   "outputs": [
    {
     "name": "stdout",
     "output_type": "stream",
     "text": [
      "<class 'str'>\n"
     ]
    }
   ],
   "source": [
    "print(type(df.iloc[0][0]))"
   ]
  },
  {
   "cell_type": "code",
   "execution_count": 12,
   "metadata": {},
   "outputs": [
    {
     "name": "stdout",
     "output_type": "stream",
     "text": [
      "Index(['Unnamed: 0', 'edmPlaceLabel'], dtype='object')\n"
     ]
    }
   ],
   "source": [
    "print(df.columns)"
   ]
  },
  {
   "cell_type": "code",
   "execution_count": 17,
   "metadata": {},
   "outputs": [
    {
     "name": "stdout",
     "output_type": "stream",
     "text": [
      "          country  count\n",
      "0        Bolivien  13851\n",
      "1       Brasilien   9638\n",
      "2          Panama   6712\n",
      "3     Argentinien   4948\n",
      "4       Kolumbien   4765\n",
      "..            ...    ...\n",
      "186      Schweden      1\n",
      "187          Peru      1\n",
      "188          Akka      1\n",
      "189          Peru      1\n",
      "190  Bougainville      1\n",
      "\n",
      "[191 rows x 2 columns]\n"
     ]
    }
   ],
   "source": [
    "import ast\n",
    "\n",
    "# Function to extract the first value of the first entry\n",
    "def extract_first_value(entry):\n",
    "    try:\n",
    "        # Convert string representation of list of dicts to a list of dicts\n",
    "        list_of_dicts = ast.literal_eval(entry)\n",
    "        # Extract the 'def' value of the first dictionary\n",
    "        return list_of_dicts[0]['def'] if list_of_dicts else None\n",
    "    except (ValueError, SyntaxError):\n",
    "        return None\n",
    "\n",
    "# Apply the function to the existing column and create the new 'country' column\n",
    "df['country'] = df['Unnamed: 0'].apply(extract_first_value)\n",
    "\n",
    "# create column \"count\"\n",
    "df['count'] = df['edmPlaceLabel']\n",
    "\n",
    "# drop old columns\n",
    "df = df.drop(columns=['Unnamed: 0', 'edmPlaceLabel'])\n",
    "\n",
    "# Display the DataFrame to verify the result\n",
    "print(df)"
   ]
  },
  {
   "cell_type": "code",
   "execution_count": 18,
   "metadata": {},
   "outputs": [],
   "source": [
    "df.to_csv(\"data/country_counts.csv\", index=False)"
   ]
  }
 ],
 "metadata": {
  "kernelspec": {
   "display_name": "Python 3 (ipykernel)",
   "language": "python",
   "name": "python3"
  },
  "language_info": {
   "codemirror_mode": {
    "name": "ipython",
    "version": 3
   },
   "file_extension": ".py",
   "mimetype": "text/x-python",
   "name": "python",
   "nbconvert_exporter": "python",
   "pygments_lexer": "ipython3",
   "version": "3.10.11"
  }
 },
 "nbformat": 4,
 "nbformat_minor": 4
}
